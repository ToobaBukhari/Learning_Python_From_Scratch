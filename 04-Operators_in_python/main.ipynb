{
 "cells": [
  {
   "cell_type": "markdown",
   "metadata": {},
   "source": [
    " # Python Operators"
   ]
  },
  {
   "cell_type": "markdown",
   "metadata": {},
   "source": [
    "Operators are used to perform operations on variables and values."
   ]
  },
  {
   "cell_type": "markdown",
   "metadata": {},
   "source": [
    "# Arithmetic operators\n",
    "# Assignment operators\n",
    "# Comparison operators\n",
    "# Logical operators\n",
    "# Identity operators\n",
    "# Membership operators\n",
    "# Bitwise operators"
   ]
  },
  {
   "cell_type": "code",
   "execution_count": 4,
   "metadata": {},
   "outputs": [
    {
     "name": "stdout",
     "output_type": "stream",
     "text": [
      "15\n",
      "5\n",
      "50\n",
      "0.5\n",
      "5\n",
      "100000\n",
      "2\n"
     ]
    }
   ],
   "source": [
    "# Arithmetic operators\n",
    "# addition\n",
    "a = 10\n",
    "b = 5\n",
    "print(a + b)\n",
    "# subtraction\n",
    "print(a - b)\n",
    "# multiplication\n",
    "print(a * b)\n",
    "# division\n",
    "print(b / a)\n",
    "# modulus\n",
    "print(b % a)\n",
    "# exponentiation\n",
    "print(a ** b)\n",
    "# floor division\n",
    "print(a // b)\n",
    "\n",
    "\n",
    "\n"
   ]
  },
  {
   "cell_type": "code",
   "execution_count": 5,
   "metadata": {},
   "outputs": [
    {
     "name": "stdout",
     "output_type": "stream",
     "text": [
      "False\n",
      "True\n",
      "True\n",
      "True\n",
      "False\n",
      "True\n"
     ]
    }
   ],
   "source": [
    "# Python Comparison Operators\n",
    "x = 5\n",
    "y = 10\n",
    "print(x == y ) # equal to\n",
    "# it returns false because 5 is not equal to 10\n",
    "\n",
    "print(x != y) # not equal to\n",
    "print(y > x) # greater than \n",
    "print(x < y) # less than\n",
    "print(x >= y) # greater than equal to\n",
    "print(x <= y) # less than equal to\n",
    "\n",
    "\n",
    "\n",
    "\n"
   ]
  },
  {
   "cell_type": "markdown",
   "metadata": {},
   "source": [
    "# Logical Operators\n",
    " #  * and\n",
    " return true if both statements are true\n",
    " #  * or\n",
    " return true if one of the statement is true\n",
    " #  * not\n",
    "reverse the result , if statement is true return false"
   ]
  }
 ],
 "metadata": {
  "kernelspec": {
   "display_name": "base",
   "language": "python",
   "name": "python3"
  },
  "language_info": {
   "codemirror_mode": {
    "name": "ipython",
    "version": 3
   },
   "file_extension": ".py",
   "mimetype": "text/x-python",
   "name": "python",
   "nbconvert_exporter": "python",
   "pygments_lexer": "ipython3",
   "version": "3.11.5"
  }
 },
 "nbformat": 4,
 "nbformat_minor": 2
}
