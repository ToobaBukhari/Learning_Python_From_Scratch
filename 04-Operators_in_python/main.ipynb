{
 "cells": [
  {
   "cell_type": "markdown",
   "metadata": {},
   "source": [
    " # Python Operators"
   ]
  },
  {
   "cell_type": "markdown",
   "metadata": {},
   "source": [
    "Operators are used to perform operations on variables and values."
   ]
  },
  {
   "cell_type": "markdown",
   "metadata": {},
   "source": [
    "# Arithmetic operators\n",
    "# Assignment operators\n",
    "# Comparison operators\n",
    "# Logical operators\n",
    "# Identity operators\n",
    "# Membership operators\n",
    "# Bitwise operators"
   ]
  },
  {
   "cell_type": "code",
   "execution_count": 4,
   "metadata": {},
   "outputs": [
    {
     "name": "stdout",
     "output_type": "stream",
     "text": [
      "15\n",
      "5\n",
      "50\n",
      "0.5\n",
      "5\n",
      "100000\n",
      "2\n"
     ]
    }
   ],
   "source": [
    "# Arithmetic operators\n",
    "# addition\n",
    "a = 10\n",
    "b = 5\n",
    "print(a + b)\n",
    "# subtraction\n",
    "print(a - b)\n",
    "# multiplication\n",
    "print(a * b)\n",
    "# division\n",
    "print(b / a)\n",
    "# modulus\n",
    "print(b % a)\n",
    "# exponentiation\n",
    "print(a ** b)\n",
    "# floor division\n",
    "print(a // b)\n",
    "\n",
    "\n",
    "\n"
   ]
  },
  {
   "cell_type": "code",
   "execution_count": null,
   "metadata": {},
   "outputs": [],
   "source": [
    "# Assignment operators\n",
    "\n"
   ]
  }
 ],
 "metadata": {
  "kernelspec": {
   "display_name": "base",
   "language": "python",
   "name": "python3"
  },
  "language_info": {
   "codemirror_mode": {
    "name": "ipython",
    "version": 3
   },
   "file_extension": ".py",
   "mimetype": "text/x-python",
   "name": "python",
   "nbconvert_exporter": "python",
   "pygments_lexer": "ipython3",
   "version": "3.11.5"
  }
 },
 "nbformat": 4,
 "nbformat_minor": 2
}
