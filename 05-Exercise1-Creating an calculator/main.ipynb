{
 "cells": [
  {
   "cell_type": "markdown",
   "metadata": {},
   "source": [
    "# Exercise 01"
   ]
  },
  {
   "cell_type": "code",
   "execution_count": 1,
   "metadata": {},
   "outputs": [
    {
     "name": "stdout",
     "output_type": "stream",
     "text": [
      "Addition of number1 and number2 is: 50\n"
     ]
    }
   ],
   "source": [
    "number1 = 20\n",
    "number2 = 30\n",
    "\n",
    "answer1 = number1 + number2\n",
    "\n",
    "print(f\"Addition of number1 and number2 is: {answer1}\")\n"
   ]
  },
  {
   "cell_type": "code",
   "execution_count": 3,
   "metadata": {},
   "outputs": [
    {
     "name": "stdout",
     "output_type": "stream",
     "text": [
      "Subtraction of number1 and number2 is: 10\n"
     ]
    }
   ],
   "source": [
    "number1 = 20\n",
    "number2 = 30\n",
    "\n",
    "answer1 = number2 - number1\n",
    "\n",
    "print(f\"Subtraction of number1 and number2 is: {answer1}\")\n"
   ]
  },
  {
   "cell_type": "code",
   "execution_count": 5,
   "metadata": {},
   "outputs": [
    {
     "name": "stdout",
     "output_type": "stream",
     "text": [
      "Multiplication of number1 and number2 is: 600\n"
     ]
    }
   ],
   "source": [
    "number1 = 20\n",
    "number2 = 30\n",
    "\n",
    "answer1 = number1 * number2\n",
    "\n",
    "print(f\"Multiplication of number1 and number2 is: {answer1}\")\n"
   ]
  },
  {
   "cell_type": "code",
   "execution_count": 6,
   "metadata": {},
   "outputs": [
    {
     "name": "stdout",
     "output_type": "stream",
     "text": [
      "Division of number1 and number2 is: 0.6666666666666666\n"
     ]
    }
   ],
   "source": [
    "number1 = 20\n",
    "number2 = 30\n",
    "\n",
    "answer1 = number1 / number2\n",
    "\n",
    "print(f\"Division of number1 and number2 is: {answer1}\")\n"
   ]
  },
  {
   "cell_type": "code",
   "execution_count": 7,
   "metadata": {},
   "outputs": [
    {
     "name": "stdout",
     "output_type": "stream",
     "text": [
      "Modulus of number1 and number2 is: 20\n"
     ]
    }
   ],
   "source": [
    "number1 = 20\n",
    "number2 = 30\n",
    "\n",
    "answer1 = number1 % number2\n",
    "\n",
    "print(f\"Modulus of number1 and number2 is: {answer1}\")\n"
   ]
  }
 ],
 "metadata": {
  "kernelspec": {
   "display_name": "base",
   "language": "python",
   "name": "python3"
  },
  "language_info": {
   "codemirror_mode": {
    "name": "ipython",
    "version": 3
   },
   "file_extension": ".py",
   "mimetype": "text/x-python",
   "name": "python",
   "nbconvert_exporter": "python",
   "pygments_lexer": "ipython3",
   "version": "3.11.5"
  }
 },
 "nbformat": 4,
 "nbformat_minor": 2
}
