{
 "cells": [
  {
   "cell_type": "markdown",
   "metadata": {},
   "source": [
    "# A function is a block of code which only runs when it is called.\n",
    "# You can pass data, known as parameters, into a function.\n",
    "\n",
    "# A function can return data as a result."
   ]
  },
  {
   "cell_type": "markdown",
   "metadata": {},
   "source": [
    "# Pre-defined functions\n",
    "         * provided by in language\n",
    "             ...print\n",
    "             ...len\n",
    "             ...id\n",
    "             ...dir\n",
    "             ...chr\n",
    "             ...ord\n",
    "             ...exec\n",
    "# User-defined functions\n",
    "         * custom function\n",
    "# Return\n",
    "         * we can assign this function output in any variable\n",
    "# None-return \n",
    "         * only run we can't assign value to variable\n",
    "# Components\n",
    "         * function declaration\n",
    "         * function body\n",
    "         * function calling"
   ]
  },
  {
   "cell_type": "code",
   "execution_count": 4,
   "metadata": {},
   "outputs": [],
   "source": [
    "# Syntax of function\n",
    "def function_Name(param1:type,param2:type):\n",
    "    return(1)\n",
    "    \n",
    "function_Name()\n",
    "\n",
    "    "
   ]
  },
  {
   "cell_type": "code",
   "execution_count": 5,
   "metadata": {},
   "outputs": [
    {
     "name": "stdout",
     "output_type": "stream",
     "text": [
      "Tooba Bukhari\n"
     ]
    },
    {
     "data": {
      "text/plain": [
       "None"
      ]
     },
     "metadata": {},
     "output_type": "display_data"
    }
   ],
   "source": [
    "# Return and None-return function\n",
    "\n",
    "a : str = print(\"Tooba Bukhari\")      # a = \"Tooba Bukhari\" | None\n",
    "display(a)           # print is a none return function"
   ]
  },
  {
   "cell_type": "code",
   "execution_count": 7,
   "metadata": {},
   "outputs": [
    {
     "data": {
      "text/plain": [
       "12"
      ]
     },
     "metadata": {},
     "output_type": "display_data"
    }
   ],
   "source": [
    "a : int = len(\"ToobaBukhari\") # a = 12\n",
    "display(a)  # It is return function"
   ]
  },
  {
   "cell_type": "code",
   "execution_count": null,
   "metadata": {},
   "outputs": [],
   "source": []
  }
 ],
 "metadata": {
  "kernelspec": {
   "display_name": "base",
   "language": "python",
   "name": "python3"
  },
  "language_info": {
   "codemirror_mode": {
    "name": "ipython",
    "version": 3
   },
   "file_extension": ".py",
   "mimetype": "text/x-python",
   "name": "python",
   "nbconvert_exporter": "python",
   "pygments_lexer": "ipython3",
   "version": "3.11.5"
  }
 },
 "nbformat": 4,
 "nbformat_minor": 2
}
