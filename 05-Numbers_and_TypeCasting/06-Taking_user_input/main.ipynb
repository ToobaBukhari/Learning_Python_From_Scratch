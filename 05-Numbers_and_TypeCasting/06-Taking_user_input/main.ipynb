{
 "cells": [
  {
   "cell_type": "markdown",
   "metadata": {},
   "source": [
    "# There are three numeric types in python\n",
    "* int \n",
    "* float\n",
    "* complex"
   ]
  },
  {
   "cell_type": "markdown",
   "metadata": {},
   "source": [
    "# "
   ]
  },
  {
   "cell_type": "code",
   "execution_count": 2,
   "metadata": {},
   "outputs": [
    {
     "name": "stdout",
     "output_type": "stream",
     "text": [
      "<class 'int'>\n",
      "<class 'float'>\n",
      "<class 'complex'>\n"
     ]
    }
   ],
   "source": [
    "x = 10\n",
    "y = 10.10\n",
    "z = 10j\n",
    "\n",
    "print(type(x)) # Int, or integer, is a whole number, positive or negative, without decimals, of unlimited length.\n",
    "print(type(y)) # Float, or \"floating point number\" is a number, positive or negative, containing one or more decimals.\n",
    "print(type(z)) # Complex numbers are written with a \"j\" as the imaginary part"
   ]
  },
  {
   "cell_type": "markdown",
   "metadata": {},
   "source": [
    "# Type conversion\n",
    "# For Example:\n",
    "* int to float\n",
    "* float to int \n",
    "* int to complex"
   ]
  },
  {
   "cell_type": "code",
   "execution_count": 4,
   "metadata": {},
   "outputs": [
    {
     "name": "stdout",
     "output_type": "stream",
     "text": [
      "10.0\n",
      "<class 'float'>\n"
     ]
    }
   ],
   "source": [
    "x = 10\n",
    "y = 10.10\n",
    "z = 10j\n",
    "\n",
    "a = float(x)\n",
    "\n",
    "print(a)\n",
    "\n",
    "print(type(a))"
   ]
  },
  {
   "cell_type": "code",
   "execution_count": 5,
   "metadata": {},
   "outputs": [
    {
     "name": "stdout",
     "output_type": "stream",
     "text": [
      "10\n",
      "<class 'int'>\n"
     ]
    }
   ],
   "source": [
    "x = 10\n",
    "y = 10.10\n",
    "z = 10j\n",
    "\n",
    "b = int(y)\n",
    "\n",
    "print(b)\n",
    "\n",
    "print(type(b))"
   ]
  },
  {
   "cell_type": "code",
   "execution_count": 7,
   "metadata": {},
   "outputs": [
    {
     "name": "stdout",
     "output_type": "stream",
     "text": [
      "(10+0j)\n",
      "<class 'complex'>\n"
     ]
    }
   ],
   "source": [
    "x = 10\n",
    "y = 10.10\n",
    "z = 10j\n",
    "\n",
    "c = complex(x)\n",
    "\n",
    "print(c)\n",
    "\n",
    "print(type(c))"
   ]
  },
  {
   "cell_type": "markdown",
   "metadata": {},
   "source": [
    "* Remember cannot convert complex numbers into another number type."
   ]
  },
  {
   "cell_type": "markdown",
   "metadata": {},
   "source": [
    "# Type Casting\n",
    "* The conversion of one data type into other data type."
   ]
  },
  {
   "cell_type": "code",
   "execution_count": 5,
   "metadata": {},
   "outputs": [
    {
     "name": "stdout",
     "output_type": "stream",
     "text": [
      "2023\n",
      "43\n"
     ]
    },
    {
     "ename": "TypeError",
     "evalue": "unsupported operand type(s) for +: 'int' and 'str'",
     "output_type": "error",
     "traceback": [
      "\u001b[0;31m---------------------------------------------------------------------------\u001b[0m",
      "\u001b[0;31mTypeError\u001b[0m                                 Traceback (most recent call last)",
      "\u001b[1;32m/Users/Home/Desktop/Learning_Python_From_Stratch/05-Numbers_and_TypeCasting/06-Taking_user_input/main.ipynb Cell 10\u001b[0m line \u001b[0;36m6\n\u001b[1;32m      <a href='vscode-notebook-cell:/Users/Home/Desktop/Learning_Python_From_Stratch/05-Numbers_and_TypeCasting/06-Taking_user_input/main.ipynb#X12sZmlsZQ%3D%3D?line=3'>4</a>\u001b[0m \u001b[39m# type conversion string into int\u001b[39;00m\n\u001b[1;32m      <a href='vscode-notebook-cell:/Users/Home/Desktop/Learning_Python_From_Stratch/05-Numbers_and_TypeCasting/06-Taking_user_input/main.ipynb#X12sZmlsZQ%3D%3D?line=4'>5</a>\u001b[0m \u001b[39mprint\u001b[39m(\u001b[39mint\u001b[39m(a)\u001b[39m+\u001b[39m\u001b[39mint\u001b[39m(b))\n\u001b[0;32m----> <a href='vscode-notebook-cell:/Users/Home/Desktop/Learning_Python_From_Stratch/05-Numbers_and_TypeCasting/06-Taking_user_input/main.ipynb#X12sZmlsZQ%3D%3D?line=5'>6</a>\u001b[0m \u001b[39mprint\u001b[39m(\u001b[39mint\u001b[39m(a)\u001b[39m+\u001b[39mb)\n",
      "\u001b[0;31mTypeError\u001b[0m: unsupported operand type(s) for +: 'int' and 'str'"
     ]
    }
   ],
   "source": [
    "a = \"20\"\n",
    "b = \"23\"\n",
    "print(a + b) # 2023\n",
    "\n",
    "# type conversion string into int\n",
    "print(int(a)+int(b)) # 43\n",
    "\n",
    "print(int(a)+b) # TypeError: unsupported operand type(s) for +: 'int' and 'str'"
   ]
  },
  {
   "cell_type": "markdown",
   "metadata": {},
   "source": [
    "# Python supports a wide variety of functions or methods like\n",
    "* int()\n",
    "* float()\n",
    "* str()\n",
    "* ord()\n",
    "* hex()\n",
    "* oct()\n",
    "* tuple()\n",
    "* set()\n",
    "* list()\n",
    "* dict() etc\n",
    "\n"
   ]
  },
  {
   "cell_type": "markdown",
   "metadata": {},
   "source": [
    "# Two types of typecasting\n",
    "* Explicit typecasting\n",
    "* Implicit typecasting"
   ]
  },
  {
   "cell_type": "code",
   "execution_count": 6,
   "metadata": {},
   "outputs": [
    {
     "name": "stdout",
     "output_type": "stream",
     "text": [
      "the sum of both the numbers is:  25\n"
     ]
    }
   ],
   "source": [
    "string = \"15\"\n",
    "number = 10\n",
    "string_number = int(string)\n",
    "sum = number + string_number\n",
    "print(\"the sum of both the numbers is: \", sum)"
   ]
  }
 ],
 "metadata": {
  "kernelspec": {
   "display_name": "base",
   "language": "python",
   "name": "python3"
  },
  "language_info": {
   "codemirror_mode": {
    "name": "ipython",
    "version": 3
   },
   "file_extension": ".py",
   "mimetype": "text/x-python",
   "name": "python",
   "nbconvert_exporter": "python",
   "pygments_lexer": "ipython3",
   "version": "3.11.5"
  }
 },
 "nbformat": 4,
 "nbformat_minor": 2
}
