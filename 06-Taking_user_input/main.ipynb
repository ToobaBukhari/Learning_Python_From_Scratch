{
 "cells": [
  {
   "cell_type": "markdown",
   "metadata": {},
   "source": [
    "# Python User Input\n",
    "* In python we can take user input by using input() function.\n",
    "* This function gives a return value as string character.\n",
    "* We have to pass that into a variable. "
   ]
  },
  {
   "cell_type": "code",
   "execution_count": 2,
   "metadata": {},
   "outputs": [
    {
     "name": "stdout",
     "output_type": "stream",
     "text": [
      "Your name is tooba\n",
      "Welcome tooba Nice to meet you?\n"
     ]
    }
   ],
   "source": [
    "Name = input(\"Enter your name : \")\n",
    "print(\"Your name is\",Name)\n",
    "print(\"Welcome\",Name,\"Nice to meet you?\")"
   ]
  }
 ],
 "metadata": {
  "kernelspec": {
   "display_name": "base",
   "language": "python",
   "name": "python3"
  },
  "language_info": {
   "codemirror_mode": {
    "name": "ipython",
    "version": 3
   },
   "file_extension": ".py",
   "mimetype": "text/x-python",
   "name": "python",
   "nbconvert_exporter": "python",
   "pygments_lexer": "ipython3",
   "version": "3.11.5"
  }
 },
 "nbformat": 4,
 "nbformat_minor": 2
}
